{
  "nbformat": 4,
  "nbformat_minor": 0,
  "metadata": {
    "colab": {
      "provenance": [],
      "authorship_tag": "ABX9TyPKKIJ5+GaV48QY3Bcad6eY",
      "include_colab_link": true
    },
    "kernelspec": {
      "name": "python3",
      "display_name": "Python 3"
    },
    "language_info": {
      "name": "python"
    }
  },
  "cells": [
    {
      "cell_type": "markdown",
      "metadata": {
        "id": "view-in-github",
        "colab_type": "text"
      },
      "source": [
        "<a href=\"https://colab.research.google.com/github/nicolas912-val/trabajosduoc/blob/main/Nicolas_valenzuela_006D.ipynb\" target=\"_parent\"><img src=\"https://colab.research.google.com/assets/colab-badge.svg\" alt=\"Open In Colab\"/></a>"
      ]
    },
    {
      "cell_type": "code",
      "source": [
        "import random\n",
        "\n",
        "\n",
        "datos_personas = {}\n",
        "\n",
        "def menu():\n",
        "    print(\"Bienvenido al programa de registro de ciudadanos\")\n",
        "    print(\"1. Grabar\")\n",
        "    print(\"2. Buscar\")\n",
        "    print(\"3. Imprimir certificados\")\n",
        "    print(\"4. Salir\")\n",
        "\n",
        "def validar_nif(nif):\n",
        "\n",
        "    if len(nif) != 11 or nif[8] != \"-\":\n",
        "        return False\n",
        "    dni = nif[:8]\n",
        "    control = nif[9:]\n",
        "    if not dni.isdigit() or not control.isalpha():\n",
        "        return False\n",
        "    return True\n",
        "\n",
        "def grabar():\n",
        "    nif = input(\"Ingrese el NIF: \")\n",
        "    if not validar_nif(nif):\n",
        "        print(\"NIF incorrecto\")\n",
        "        return\n",
        "    nombre = input(\"Ingrese el nombre: \")\n",
        "    if len(nombre) < 8:\n",
        "        print(\"El nombre debe tener mínimo 8 caracteres\")\n",
        "        return\n",
        "    edad = int(input(\"Ingrese la edad: \"))\n",
        "    if edad < 0:\n",
        "        print(\"La edad debe ser mayor o igual a 0\")\n",
        "        return\n",
        "    datos_personas[nif] = {\"Nombre\": nombre, \"Edad\": edad}\n",
        "\n",
        "def buscar():\n",
        "    nif = input(\"Ingrese el NIF de la persona que desea buscar: \")\n",
        "    if nif in datos_personas:\n",
        "        persona = datos_personas[nif]\n",
        "        print(\"Nombre:\", persona[\"Nombre\"])\n",
        "        print(\"Edad:\", persona[\"Edad\"])\n",
        "        if nif[:2] == \"00\":\n",
        "            print(\"Pertenece a la Unión Europea: No\")\n",
        "        else:\n",
        "            print(\"Pertenece a la Unión Europea: Sí\")\n",
        "    else:\n",
        "        print(\"No se encontró ninguna persona con ese NIF\")\n",
        "\n",
        "def imprimir_certificados():\n",
        "    for nif, persona in datos_personas.items():\n",
        "        print(\"Certificados de\", persona[\"Nombre\"])\n",
        "        print(\"NIF:\", nif)\n",
        "        print(\"Certificado de nacimiento:\", random.randint(1000, 9999))\n",
        "        print(\"Certificado de estado conyugal:\", random.randint(1000, 9999))\n",
        "        if nif[:2] == \"00\":\n",
        "            print(\"Certificado de pertenencia a la Unión Europea: No\")\n",
        "        else:\n",
        "            print(\"Certificado de pertenencia a la Unión Europea: Sí\")\n",
        "        print()\n",
        "\n",
        "def main():\n",
        "    salir = False\n",
        "    while not salir:\n",
        "        menu()\n",
        "        opcion = input(\"Seleccione una opción: \")\n",
        "        if opcion == \"1\":\n",
        "            grabar()\n",
        "        elif opcion == \"2\":\n",
        "            buscar()\n",
        "        elif opcion == \"3\":\n",
        "            imprimir_certificados()\n",
        "        elif opcion == \"4\":\n",
        "            salir = True\n",
        "            print(\"Gracias por utilizar el programa.\")\n",
        "            print(\"Desarrollado por [Tu Nicolas y Valenzuela]\")\n",
        "            print(\"Versión del programa: 2.0\")\n",
        "        else:\n",
        "            print(\"Opción inválida. Intente nuevamente.\")\n",
        "\n",
        "\n",
        "main()\n"
      ],
      "metadata": {
        "colab": {
          "base_uri": "https://localhost:8080/"
        },
        "id": "ea2Bo88Ujex7",
        "outputId": "5fd3aa0d-8f38-48a3-b00c-128683c3973c"
      },
      "execution_count": 2,
      "outputs": [
        {
          "output_type": "stream",
          "name": "stdout",
          "text": [
            "Bienvenido al programa de registro de ciudadanos\n",
            "1. Grabar\n",
            "2. Buscar\n",
            "3. Imprimir certificados\n",
            "4. Salir\n",
            "Seleccione una opción: 1\n",
            "Ingrese el NIF: 21238753-ktc\n",
            "NIF incorrecto\n",
            "Bienvenido al programa de registro de ciudadanos\n",
            "1. Grabar\n",
            "2. Buscar\n",
            "3. Imprimir certificados\n",
            "4. Salir\n",
            "Seleccione una opción: 2\n",
            "Ingrese el NIF de la persona que desea buscar: 4\n",
            "No se encontró ninguna persona con ese NIF\n",
            "Bienvenido al programa de registro de ciudadanos\n",
            "1. Grabar\n",
            "2. Buscar\n",
            "3. Imprimir certificados\n",
            "4. Salir\n",
            "Seleccione una opción: 4\n",
            "Gracias por utilizar el programa.\n",
            "Desarrollado por [Tu nombre y apellido]\n",
            "Versión del programa: 1.0\n"
          ]
        }
      ]
    }
  ]
}